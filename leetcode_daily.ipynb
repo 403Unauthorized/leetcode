{
 "cells": [
  {
   "cell_type": "code",
   "execution_count": 5,
   "id": "012de3b5-7df1-4f1c-827d-0e208d3f5010",
   "metadata": {},
   "outputs": [],
   "source": [
    "# Preparation for the code\n",
    "class TreeNode:\n",
    "    def __init__(self, x):\n",
    "        self.val = x\n",
    "        self.left = None\n",
    "        self.right = None"
   ]
  },
  {
   "cell_type": "markdown",
   "id": "589efb09-aeb6-4c88-8223-816e62f1ec90",
   "metadata": {
    "tags": []
   },
   "source": [
    "# Easy 268 消失的数字 - Nov 6th, 2021\n",
    "\n",
    "给定一个包含 [0, n] 中 n 个数的数组 nums ，找出 [0, n] 这个范围内没有出现在数组中的那个数。\n",
    "\n",
    " \n",
    "\n",
    "**示例 1**：\n",
    "\n",
    "> 输入：nums = [3,0,1]\n",
    ">\n",
    "> 输出：2\n",
    ">\n",
    "> 解释：n = 3，因为有 3 个数字，所以所有的数字都在范围 [0,3] 内。2 是丢失的数字，因为它没有出现在 nums 中。\n",
    "\n",
    "**示例 2**：\n",
    "\n",
    "> 输入：nums = [0,1]\n",
    ">\n",
    "> 输出：2\n",
    ">\n",
    "> 解释：n = 2，因为有 2 个数字，所以所有的数字都在范围 [0,2] 内。2 是丢失的数字，因为它没有出现在 nums 中。\n",
    "\n",
    "**示例 3**：\n",
    "\n",
    "> 输入：nums = [9,6,4,2,3,5,7,0,1]\n",
    ">\n",
    "> 输出：8\n",
    ">\n",
    "> 解释：n = 9，因为有 9 个数字，所以所有的数字都在范围 [0,9] 内。8 是丢失的数字，因为它没有出现在 nums 中。\n",
    "\n",
    "**示例 4**：\n",
    "\n",
    "> 输入：nums = [0]\n",
    ">\n",
    "> 输出：1\n",
    ">\n",
    "> 解释：n = 1，因为有 1 个数字，所以所有的数字都在范围 [0,1] 内。1 是丢失的数字，因为它没有出现在 nums 中。\n",
    "\n",
    "**提示**：\n",
    "\n",
    "- `n == nums.length`\n",
    "\n",
    "- `1 <= n <= 104`\n",
    "\n",
    "- `0 <= nums[i] <= n`\n",
    "\n",
    "- nums 中的所有数字都 独一无二"
   ]
  },
  {
   "cell_type": "code",
   "execution_count": 1,
   "id": "bcce742c-0d8f-4ad2-b7b1-56f76040c04e",
   "metadata": {},
   "outputs": [],
   "source": [
    "from typing import List\n",
    "class Solution:\n",
    "    def missingNumber(self, nums: List[int]) -> int:\n",
    "        n = len(nums)\n",
    "        ans = 0\n",
    "        for i in range(n + 1):\n",
    "            ans ^= i\n",
    "        for num in nums:\n",
    "            ans ^= num\n",
    "        return ans\n",
    "    def missingNumber(self, nums: List[int]) -> int:\n",
    "        n = len(nums)\n",
    "        total = (1 + n) * n >> 1\n",
    "        numsTotal = 0\n",
    "        for num in nums:\n",
    "            numsTotal += num\n",
    "        return total - numsTotal"
   ]
  },
  {
   "cell_type": "markdown",
   "id": "cee6deeb-84d5-4727-a066-fabf618ee002",
   "metadata": {},
   "source": [
    "# Medium Nov 7th, 2021"
   ]
  },
  {
   "cell_type": "code",
   "execution_count": 26,
   "id": "148b756a-0c97-40f8-a6d3-18876f23abfc",
   "metadata": {},
   "outputs": [
    {
     "data": {
      "text/plain": [
       "1"
      ]
     },
     "execution_count": 26,
     "metadata": {},
     "output_type": "execute_result"
    }
   ],
   "source": [
    "a = 0\n",
    "a ^= 0\n",
    "a ^= 0\n",
    "a ^= 1\n",
    "a ^= 1\n",
    "a\n",
    "a ^= 2\n",
    "a ^= 3\n",
    "a"
   ]
  },
  {
   "cell_type": "code",
   "execution_count": null,
   "id": "5efd73b3-9547-4e83-9fa4-5f25c761f4ee",
   "metadata": {},
   "outputs": [],
   "source": []
  }
 ],
 "metadata": {
  "kernelspec": {
   "display_name": "Python 3 (ipykernel)",
   "language": "python",
   "name": "python3"
  },
  "language_info": {
   "codemirror_mode": {
    "name": "ipython",
    "version": 3
   },
   "file_extension": ".py",
   "mimetype": "text/x-python",
   "name": "python",
   "nbconvert_exporter": "python",
   "pygments_lexer": "ipython3",
   "version": "3.9.7"
  }
 },
 "nbformat": 4,
 "nbformat_minor": 5
}
