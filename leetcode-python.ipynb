{
 "cells": [
  {
   "cell_type": "code",
   "execution_count": 2,
   "id": "2b79fb7d-912f-4722-932a-a8e08a0d98fe",
   "metadata": {},
   "outputs": [],
   "source": [
    "class TreeNode:\n",
    "    def __init__(self, val):\n",
    "        self.val = val\n",
    "        self.left = None\n",
    "        self.right = None"
   ]
  },
  {
   "cell_type": "markdown",
   "id": "5b22a53f-8b19-4176-b6c2-1988c4223916",
   "metadata": {},
   "source": [
    "### Hard 124. 二叉树中的最大路径和\n",
    "\n",
    "> 2021年11月7日\n",
    "\n",
    "路径被定义为一条从树中任意节点出发，沿父节点-子节点连接，达到任意节点的序列。同一个节点在一条路径序列中至多出现一次。该路径至少包含一个节点，且不一定经过根节点。\n",
    "\n",
    "路径和是路径中各节点值的总和。\n",
    "\n",
    "给你一个二叉树的根节点`root`，返回其最大路径和。"
   ]
  },
  {
   "cell_type": "code",
   "execution_count": 3,
   "id": "bf3bd636-ea42-4785-8eea-7b799acff625",
   "metadata": {},
   "outputs": [],
   "source": [
    "class Solution:\n",
    "    def maxPathSum(self, root: TreeNode) -> int:\n",
    "        pass\n",
    "    def traverse(root: TreeNode) -> int:\n",
    "        if root == None:\n",
    "            return 0\n",
    "        int left = "
   ]
  },
  {
   "cell_type": "markdown",
   "id": "444a335e-42ca-4cda-900a-86186a285b23",
   "metadata": {},
   "source": [
    "### Medium 105. 从前序与中序遍历序列构造二叉树\n",
    "\n",
    "> 2021年11月7日\n",
    "\n",
    "给定一棵树的前序遍历`preorde`与中序遍历`inorder`。请构造二叉树并返回其根节点。\n",
    "\n",
    "**示例1**:\n",
    "\n",
    "> **Input**: preorder = [3,9,20,15,7], inorder = [9,3,15,20,7] \\\n",
    "> **Output**: [3,9,20,null,null,15,7]\n",
    "\n",
    "**示例2**:\n",
    "\n",
    "> **Input**: preorder = [-1], inorder = [-1] \\\n",
    "> **Output**: [-1]\n"
   ]
  },
  {
   "cell_type": "code",
   "execution_count": null,
   "id": "5e66a785-db42-4e4a-b95d-78065b4d4b7c",
   "metadata": {},
   "outputs": [],
   "source": [
    "class Solution:\n",
    "    def buildTree(self, preorder: List[int], inorder: List[int]) -> TreeNode:\n",
    "        pass"
   ]
  }
 ],
 "metadata": {
  "kernelspec": {
   "display_name": "Python 3 (ipykernel)",
   "language": "python",
   "name": "python3"
  },
  "language_info": {
   "codemirror_mode": {
    "name": "ipython",
    "version": 3
   },
   "file_extension": ".py",
   "mimetype": "text/x-python",
   "name": "python",
   "nbconvert_exporter": "python",
   "pygments_lexer": "ipython3",
   "version": "3.9.7"
  }
 },
 "nbformat": 4,
 "nbformat_minor": 5
}
